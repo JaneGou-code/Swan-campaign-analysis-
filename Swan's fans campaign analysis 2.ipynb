{
 "cells": [
  {
   "cell_type": "markdown",
   "id": "d6ffcd69",
   "metadata": {},
   "source": [
    "## Data cleaning"
   ]
  },
  {
   "cell_type": "code",
   "execution_count": 1,
   "id": "f9325df1",
   "metadata": {},
   "outputs": [
    {
     "name": "stdout",
     "output_type": "stream",
     "text": [
      "Requirement already satisfied: scikit-learn==1.1.3 in e:\\test_move1\\lib\\site-packages (1.1.3)\n",
      "Requirement already satisfied: scipy>=1.3.2 in e:\\test_move1\\lib\\site-packages (from scikit-learn==1.1.3) (1.7.3)\n",
      "Requirement already satisfied: numpy>=1.17.3 in e:\\test_move1\\lib\\site-packages (from scikit-learn==1.1.3) (1.21.5)\n",
      "Requirement already satisfied: joblib>=1.0.0 in e:\\test_move1\\lib\\site-packages (from scikit-learn==1.1.3) (1.2.0)\n",
      "Requirement already satisfied: threadpoolctl>=2.0.0 in e:\\test_move1\\lib\\site-packages (from scikit-learn==1.1.3) (2.2.0)\n"
     ]
    }
   ],
   "source": [
    "!pip install scikit-learn==1.1.3"
   ]
  },
  {
   "cell_type": "code",
   "execution_count": 2,
   "id": "e77467cd",
   "metadata": {},
   "outputs": [
    {
     "name": "stdout",
     "output_type": "stream",
     "text": [
      "Collecting mlxtend\n",
      "  Downloading mlxtend-0.22.0-py2.py3-none-any.whl (1.4 MB)\n",
      "Requirement already satisfied: scikit-learn>=1.0.2 in e:\\test_move1\\lib\\site-packages (from mlxtend) (1.1.3)\n",
      "Requirement already satisfied: scipy>=1.2.1 in e:\\test_move1\\lib\\site-packages (from mlxtend) (1.7.3)\n",
      "Requirement already satisfied: numpy>=1.16.2 in e:\\test_move1\\lib\\site-packages (from mlxtend) (1.21.5)\n",
      "Requirement already satisfied: joblib>=0.13.2 in e:\\test_move1\\lib\\site-packages (from mlxtend) (1.2.0)\n",
      "Requirement already satisfied: pandas>=0.24.2 in e:\\test_move1\\lib\\site-packages (from mlxtend) (1.4.2)\n",
      "Requirement already satisfied: matplotlib>=3.0.0 in e:\\test_move1\\lib\\site-packages (from mlxtend) (3.5.1)\n",
      "Requirement already satisfied: setuptools in e:\\test_move1\\lib\\site-packages (from mlxtend) (61.2.0)\n",
      "Requirement already satisfied: kiwisolver>=1.0.1 in e:\\test_move1\\lib\\site-packages (from matplotlib>=3.0.0->mlxtend) (1.3.2)\n",
      "Requirement already satisfied: cycler>=0.10 in e:\\test_move1\\lib\\site-packages (from matplotlib>=3.0.0->mlxtend) (0.11.0)\n",
      "Requirement already satisfied: pillow>=6.2.0 in e:\\test_move1\\lib\\site-packages (from matplotlib>=3.0.0->mlxtend) (9.0.1)\n",
      "Requirement already satisfied: pyparsing>=2.2.1 in e:\\test_move1\\lib\\site-packages (from matplotlib>=3.0.0->mlxtend) (3.0.4)\n",
      "Requirement already satisfied: fonttools>=4.22.0 in e:\\test_move1\\lib\\site-packages (from matplotlib>=3.0.0->mlxtend) (4.25.0)\n",
      "Requirement already satisfied: packaging>=20.0 in e:\\test_move1\\lib\\site-packages (from matplotlib>=3.0.0->mlxtend) (21.3)\n",
      "Requirement already satisfied: python-dateutil>=2.7 in e:\\test_move1\\lib\\site-packages (from matplotlib>=3.0.0->mlxtend) (2.8.2)\n",
      "Requirement already satisfied: pytz>=2020.1 in e:\\test_move1\\lib\\site-packages (from pandas>=0.24.2->mlxtend) (2021.3)\n",
      "Requirement already satisfied: six>=1.5 in e:\\test_move1\\lib\\site-packages (from python-dateutil>=2.7->matplotlib>=3.0.0->mlxtend) (1.16.0)\n",
      "Requirement already satisfied: threadpoolctl>=2.0.0 in e:\\test_move1\\lib\\site-packages (from scikit-learn>=1.0.2->mlxtend) (2.2.0)\n",
      "Installing collected packages: mlxtend\n",
      "Successfully installed mlxtend-0.22.0\n"
     ]
    }
   ],
   "source": [
    "!pip install mlxtend"
   ]
  },
  {
   "cell_type": "code",
   "execution_count": 3,
   "id": "ec8da99f",
   "metadata": {
    "scrolled": true
   },
   "outputs": [
    {
     "ename": "ModuleNotFoundError",
     "evalue": "No module named 'dash'",
     "output_type": "error",
     "traceback": [
      "\u001b[1;31m---------------------------------------------------------------------------\u001b[0m",
      "\u001b[1;31mModuleNotFoundError\u001b[0m                       Traceback (most recent call last)",
      "Input \u001b[1;32mIn [3]\u001b[0m, in \u001b[0;36m<cell line: 6>\u001b[1;34m()\u001b[0m\n\u001b[0;32m      4\u001b[0m \u001b[38;5;28;01mimport\u001b[39;00m \u001b[38;5;21;01mseaborn\u001b[39;00m \u001b[38;5;28;01mas\u001b[39;00m \u001b[38;5;21;01msns\u001b[39;00m\n\u001b[0;32m      5\u001b[0m \u001b[38;5;28;01mimport\u001b[39;00m \u001b[38;5;21;01mstatsmodels\u001b[39;00m\u001b[38;5;21;01m.\u001b[39;00m\u001b[38;5;21;01mapi\u001b[39;00m \u001b[38;5;28;01mas\u001b[39;00m \u001b[38;5;21;01msm\u001b[39;00m\n\u001b[1;32m----> 6\u001b[0m \u001b[38;5;28;01mimport\u001b[39;00m \u001b[38;5;21;01mdash\u001b[39;00m\n\u001b[0;32m      7\u001b[0m \u001b[38;5;28;01mimport\u001b[39;00m \u001b[38;5;21;01mdash_core_components\u001b[39;00m \u001b[38;5;28;01mas\u001b[39;00m \u001b[38;5;21;01mdcc\u001b[39;00m\n\u001b[0;32m      8\u001b[0m \u001b[38;5;28;01mimport\u001b[39;00m \u001b[38;5;21;01mdash_html_components\u001b[39;00m \u001b[38;5;28;01mas\u001b[39;00m \u001b[38;5;21;01mhtml\u001b[39;00m\n",
      "\u001b[1;31mModuleNotFoundError\u001b[0m: No module named 'dash'"
     ]
    }
   ],
   "source": [
    "import pandas as pd\n",
    "import numpy as np\n",
    "import matplotlib.pyplot as plt\n",
    "import seaborn as sns\n",
    "import statsmodels.api as sm\n",
    "import dash\n",
    "import dash_core_components as dcc\n",
    "import dash_html_components as html\n",
    "from dash.dependencies import Input, Output\n",
    "import plotly.graph_objs as go\n",
    "import plotly.express as px\n",
    "from plotly.subplots import make_subplots\n",
    "from sklearn.linear_model import LinearRegression\n",
    "from mlxtend.feature_selection import SequentialFeatureSelector as SFS\n",
    "\n",
    "#read .csv data into pd \n",
    "data_tweets = pd.read_csv('tweets_sport.csv');\n",
    "data_tweets"
   ]
  },
  {
   "cell_type": "code",
   "execution_count": null,
   "id": "5100a182",
   "metadata": {},
   "outputs": [],
   "source": [
    "data_tweets.info"
   ]
  },
  {
   "cell_type": "code",
   "execution_count": null,
   "id": "feae432f",
   "metadata": {},
   "outputs": [],
   "source": [
    "# Filter event 7,1,10,2\n",
    "g3_tweets = data_tweets[data_tweets['event_number'].isin([1, 2, 7, 10])]\n",
    "g3_tweets"
   ]
  },
  {
   "cell_type": "code",
   "execution_count": null,
   "id": "08855720",
   "metadata": {},
   "outputs": [],
   "source": [
    "# Handling outliers\n",
    "\n",
    "for i in g3_tweets:\n",
    "    if g3_tweets[i].dtype in ['int64', 'float64']:  # Check if the column is numeric\n",
    "        sns.boxplot(x=g3_tweets[i])\n",
    "        plt.show()"
   ]
  },
  {
   "cell_type": "code",
   "execution_count": null,
   "id": "0e92af86",
   "metadata": {},
   "outputs": [],
   "source": [
    "# Find out the missing values.\n",
    "g3_tweets.isnull().sum()"
   ]
  },
  {
   "cell_type": "markdown",
   "id": "b94a3468",
   "metadata": {},
   "source": [
    "## Wordcloud"
   ]
  },
  {
   "cell_type": "code",
   "execution_count": null,
   "id": "1ba330d5",
   "metadata": {},
   "outputs": [],
   "source": [
    "from wordcloud import WordCloud\n",
    "import matplotlib.pyplot as plt\n",
    "\n",
    "#aggerate all the tweets into one file and generate the word cloud\n",
    "text_tweets3 = g3_tweets['text']\n",
    "all_tweets = ''.join(text_tweets3.tolist())\n",
    "\n",
    "\n",
    "fig, ax = plt.subplots()\n",
    "wordcloud = WordCloud(background_color=\"white\", colormap='tab10', max_words=200).generate(all_tweets)\n",
    "plt.imshow(wordcloud, interpolation='bilinear')\n",
    "plt.axis('off')\n",
    "plt.show()\n"
   ]
  },
  {
   "cell_type": "markdown",
   "id": "43119c2e",
   "metadata": {},
   "source": [
    "## Topic modelling"
   ]
  },
  {
   "cell_type": "code",
   "execution_count": null,
   "id": "75af6e7e",
   "metadata": {},
   "outputs": [],
   "source": [
    "# Change the text to lower case\n",
    "text_tweets3 = [text.lower() for text in text_tweets3]\n",
    "\n",
    "#print the first 3 tweets\n",
    "print(text_tweets3[:3])\n"
   ]
  },
  {
   "cell_type": "code",
   "execution_count": null,
   "id": "f82c9338",
   "metadata": {},
   "outputs": [],
   "source": [
    "# Conduct lemmatization for the words in the text\n",
    "from nltk.stem import WordNetLemmatizer\n",
    "\n",
    "tokens=[]\n",
    "for sent in text_tweets3:\n",
    "    temp=[WordNetLemmatizer().lemmatize(word) for word in sent.split(\" \")]\n",
    "    tokens.append(temp)"
   ]
  },
  {
   "cell_type": "code",
   "execution_count": null,
   "id": "298a7085",
   "metadata": {},
   "outputs": [],
   "source": [
    "# Customized the stopwords\n",
    "from sklearn.feature_extraction import text \n",
    "my_additional_stop_words = [\"supercars\",\"racing\",'race','sus', 'lens',\"http\",\"tas\",\"tcm\",\"darwin\",\"racing\",\"sandown\",\"hay\",\"size\", \"idr\",\"adelaide\",\"clipsal\", \"bathurst\",\"adelaide\",\"http\",\"tas\",\"tcm\",\"darwin\",\"coateshire\",\"sandown\",\"clipsal\",\"sydney\", \"townsville\"]\n",
    "stop_words = text.ENGLISH_STOP_WORDS.union(my_additional_stop_words)"
   ]
  },
  {
   "cell_type": "code",
   "execution_count": null,
   "id": "0b658bbc",
   "metadata": {},
   "outputs": [],
   "source": [
    "%%time\n",
    "from sklearn.feature_extraction.text import CountVectorizer\n",
    "from sklearn.decomposition import LatentDirichletAllocation\n",
    "\n",
    "# Set how many topics we need\n",
    "NUM_TOPICS = 10\n",
    "g3_tweets['tokens']=tokens\n",
    "text_train = list(g3_tweets['tokens'].apply(lambda x: ' '.join(x)))\n",
    "\n",
    "# Convert a collection of text documents to a matrix of token counts.\n",
    "## min_df: ignore terms that have a document frequency strictly lower than the given threshold\n",
    "## max_df: ignore terms that have a document frequency strictly higher than the given threshold\n",
    "## stop_words: ‘english’, list\n",
    "## lowercase: Convert all characters to lowercase before tokenizing.\n",
    "## token_pattern: Regular expression denoting what constitutes a “token”\n",
    "vectoriser = CountVectorizer(min_df=5, max_df=0.9,\n",
    "                             stop_words=stop_words,lowercase=True,\n",
    "                             token_pattern='[a-zA-Z\\-][a-zA-Z\\-]{2,}')\n",
    "\n",
    "data_vectorized= vectoriser.fit_transform(text_train)\n",
    "\n",
    "# Build a Latent Dirichlet Allocation Model\n",
    "lda_model = LatentDirichletAllocation(n_components=NUM_TOPICS, max_iter=10, random_state=258, learning_method='online')\n",
    "lda_Z = lda_model.fit_transform(data_vectorized)\n",
    " \n",
    "#text = \"mclaughlin: we can win front row qualifying only the start for volvo says young gun\"\n",
    "#x = lda_model.transform(vectorizer.transform([text]))[0]\n",
    "#print(x, x.sum())"
   ]
  },
  {
   "cell_type": "code",
   "execution_count": null,
   "id": "2627ddd4",
   "metadata": {},
   "outputs": [],
   "source": [
    "print(lda_Z.shape)"
   ]
  },
  {
   "cell_type": "markdown",
   "id": "cb77f306",
   "metadata": {},
   "source": [
    "## Show the top 10 most frequent words in each topic "
   ]
  },
  {
   "cell_type": "code",
   "execution_count": null,
   "id": "6aa3afb6",
   "metadata": {},
   "outputs": [],
   "source": [
    "def print_topics(model, vectoriser, top_n=10):\n",
    "    for idx, topic in enumerate(model.components_):\n",
    "        print(\"Topic %d:\" % (idx+1))\n",
    "        print([(vectoriser.get_feature_names()[i], topic[i])\n",
    "                        for i in topic.argsort()[:-top_n - 1:-1]])\n",
    " \n",
    "print(\"LDA Model:\")\n",
    "print_topics(lda_model, vectoriser)\n",
    "print(\"=\" * 20)"
   ]
  },
  {
   "cell_type": "code",
   "execution_count": null,
   "id": "52c3e0cd",
   "metadata": {},
   "outputs": [],
   "source": [
    "x = lda_model.transform(data_vectorized)\n",
    "print(x[3])"
   ]
  },
  {
   "cell_type": "code",
   "execution_count": null,
   "id": "2855a774",
   "metadata": {},
   "outputs": [],
   "source": [
    "g3_tweets['text']"
   ]
  },
  {
   "cell_type": "code",
   "execution_count": null,
   "id": "02f92643",
   "metadata": {},
   "outputs": [],
   "source": [
    "g3_tweets"
   ]
  },
  {
   "cell_type": "code",
   "execution_count": null,
   "id": "ec8136a4",
   "metadata": {},
   "outputs": [],
   "source": [
    "import pandas as pd\n",
    "from nltk.sentiment.vader import SentimentIntensityAnalyzer\n",
    "import nltk\n",
    "nltk.download('vader_lexicon')\n",
    "\n",
    "# Initialize VADER\n",
    "sia = SentimentIntensityAnalyzer()\n",
    "\n",
    "# Assuming g3_tweets is your DataFrame and 'text' is the column with the tweet text\n",
    "g3_tweets['sentiment_scores'] = g3_tweets['text'].apply(lambda text: sia.polarity_scores(str(text))['compound'])\n",
    "\n",
    "g3_tweets"
   ]
  },
  {
   "cell_type": "code",
   "execution_count": null,
   "id": "3a2d5d9f",
   "metadata": {},
   "outputs": [],
   "source": [
    "topics=pd.DataFrame(x)\n",
    "topics.columns=['topic1','topic2','topic3','topic4','topic5','topic6','topic7','topic8','topic9','topic10']\n",
    "\n",
    "g3_tweets = g3_tweets.reset_index(drop=True)\n",
    "\n",
    "topics['tweet'] = g3_tweets['text']\n",
    "topics['month'] = g3_tweets['month']\n",
    "topics['day'] = g3_tweets['day']\n",
    "\n",
    "\n",
    "topics"
   ]
  },
  {
   "cell_type": "code",
   "execution_count": null,
   "id": "8767c391",
   "metadata": {
    "scrolled": false
   },
   "outputs": [],
   "source": [
    "import pyLDAvis.lda_model\n",
    " \n",
    "pyLDAvis.enable_notebook()\n",
    "\n",
    "# The parameters wee need,\n",
    "## LDA model: lda_model\n",
    "## vectorized model: data_vectorized\n",
    "## matrix of token counts: vectoriser\n",
    "\n",
    "panel = pyLDAvis.lda_model.prepare(lda_model, data_vectorized, vectoriser, sort_topics = False)\n",
    "panel"
   ]
  },
  {
   "cell_type": "markdown",
   "id": "8d5ec91a",
   "metadata": {},
   "source": [
    "## Sentiment analysis"
   ]
  },
  {
   "cell_type": "code",
   "execution_count": null,
   "id": "7bd6ef62",
   "metadata": {},
   "outputs": [],
   "source": [
    "import nltk\n",
    "nltk.download('vader_lexicon')"
   ]
  },
  {
   "cell_type": "code",
   "execution_count": null,
   "id": "34540cc4",
   "metadata": {},
   "outputs": [],
   "source": [
    "%%time\n",
    "# import `SentimentIntensityAnalyzer` and load a model\n",
    "from nltk.sentiment.vader import SentimentIntensityAnalyzer\n",
    "sentiment = SentimentIntensityAnalyzer()\n",
    "sentiment "
   ]
  },
  {
   "cell_type": "code",
   "execution_count": null,
   "id": "1fddd292",
   "metadata": {},
   "outputs": [],
   "source": [
    "# Using the model to process each tweet and call `compound` as polarity score\n",
    "\n",
    "scores=[]\n",
    "for tex in topics['tweet']:\n",
    "    sentimentResults = sentiment.polarity_scores(tex)\n",
    "    score = sentimentResults[\"compound\"]\n",
    "    scores.append(score)\n",
    "\n",
    "# Show the score of index 1 \n",
    "scores[1]"
   ]
  },
  {
   "cell_type": "code",
   "execution_count": null,
   "id": "53bd7fee",
   "metadata": {},
   "outputs": [],
   "source": [
    "# Get the sentiment scores weighted by the topic relevance probability\n",
    "### Create a new variable named 'topic_senti', and the values are sentiment score * topic relevance probability\n",
    "\n",
    "for i in range(1, 11):\n",
    "    topics[f'topic{i}_senti'] = topics[f'topic{i}'] * scores\n"
   ]
  },
  {
   "cell_type": "code",
   "execution_count": null,
   "id": "7d29f2ee",
   "metadata": {},
   "outputs": [],
   "source": [
    "# Calculate the sentiment score for the 2 largest topics for each event day\n",
    "\n",
    "grouped_agg_dict = {}\n",
    "\n",
    "for i in range(1, 11):\n",
    "    grouped_agg_dict[f'topic{i}_sentiment'] = (f'topic{i}_senti', 'mean')\n",
    "\n",
    "topic_tweet_data = topics.groupby(['month', 'day']).agg(**grouped_agg_dict)\n"
   ]
  },
  {
   "cell_type": "code",
   "execution_count": null,
   "id": "968df0c0",
   "metadata": {},
   "outputs": [],
   "source": [
    "# reset_index to break the pivot table to normal table\n",
    "topic_tweet_dataa = topic_tweet_data.reset_index()\n",
    "topic_tweet_data"
   ]
  },
  {
   "cell_type": "code",
   "execution_count": null,
   "id": "59b8d195",
   "metadata": {},
   "outputs": [],
   "source": [
    "# Initialize an empty dictionary to hold the new columns\n",
    "new_columns = {}\n",
    "\n",
    "# Loop over the topics\n",
    "for i in range(1, 11):  # replace 11 with the number of topics + 1\n",
    "    column_name = f'topic{i}_senti'\n",
    "    new_column_name = f'topic{i}_senti_day'\n",
    "    new_columns[new_column_name] = (column_name, 'mean')\n",
    "\n",
    "# Group by month and day and calculate the mean sentiment score for each topic\n",
    "topic_tweet_data = topics.groupby(['month', 'day']).agg(**new_columns)\n",
    "\n",
    "topic_tweet_data"
   ]
  },
  {
   "cell_type": "code",
   "execution_count": null,
   "id": "0075edd6",
   "metadata": {},
   "outputs": [],
   "source": [
    "# Calculate the mean of each column\n",
    "average_sentiment = topic_tweet_data.mean()\n",
    "\n",
    "print(average_sentiment)"
   ]
  },
  {
   "cell_type": "code",
   "execution_count": null,
   "id": "39f9366d",
   "metadata": {},
   "outputs": [],
   "source": [
    "topic_tweet_data.head()"
   ]
  },
  {
   "cell_type": "code",
   "execution_count": null,
   "id": "e707994e",
   "metadata": {},
   "outputs": [],
   "source": [
    "# Overall sentiment scores\n",
    "\n",
    "from nltk.sentiment.vader import SentimentIntensityAnalyzer\n",
    "sentiment = SentimentIntensityAnalyzer()\n",
    "text_tweets = g3_tweets['text'].to_string(index=False)  \n",
    "sentiment_scores=sentiment.polarity_scores(text_tweets)\n",
    "sentiment_scores"
   ]
  },
  {
   "cell_type": "markdown",
   "id": "7c3649a8",
   "metadata": {},
   "source": [
    "## TV Combining topic modelling with sentiment analysis"
   ]
  },
  {
   "cell_type": "code",
   "execution_count": null,
   "id": "dd21a013",
   "metadata": {},
   "outputs": [],
   "source": [
    "# Add sentiment scores to g3_tweets DataFrame\n",
    "g3_tweets['sentiment_scores'] = g3_tweets['text'].apply(lambda text: sia.polarity_scores(str(text))['compound'])\n",
    "\n",
    "# Convert 'time' column to datetime and set it as index\n",
    "g3_tweets['time'] = pd.to_datetime(g3_tweets['time'])\n",
    "g3_tweets.set_index('time', inplace=True)\n",
    "\n",
    "# Group data and aggregate\n",
    "group_tweet_data = g3_tweets.groupby(['event_number', 'weekday', pd.Grouper(freq='15min')]).agg(\n",
    "    number_of_tweet=('text', 'count'),\n",
    "    number_of_player=('player_dummy', 'sum'),\n",
    "    number_of_team=('team_dummy', 'sum'),\n",
    "    sentiment_score=('sentiment_scores', 'mean')  # calculate the average sentiment score\n",
    ")"
   ]
  },
  {
   "cell_type": "code",
   "execution_count": null,
   "id": "1a548a97",
   "metadata": {},
   "outputs": [],
   "source": [
    "# reset_index to break the pivot table to normal table\n",
    "group_tweet_data = group_tweet_data.reset_index()\n",
    "group_tweet_data.head()"
   ]
  },
  {
   "cell_type": "code",
   "execution_count": null,
   "id": "217b5144",
   "metadata": {},
   "outputs": [],
   "source": [
    "# create a new column 'start_time' to match the tv_rating: time + 15min\n",
    "import datetime as dt\n",
    "group_tweet_data['start_time'] = group_tweet_data['time'] + dt.timedelta(minutes=15)\n",
    "group_tweet_data"
   ]
  },
  {
   "cell_type": "code",
   "execution_count": null,
   "id": "8acefc2b",
   "metadata": {},
   "outputs": [],
   "source": [
    "# because the datatype of 'time' and 'start_time' are timestamp, we need to change to string\n",
    "# change the timestamp to string\n",
    "\n",
    "group_tweet_data['time'] = group_tweet_data['time'].apply(lambda x: x.strftime('%H:%M'))\n",
    "group_tweet_data['start_time'] = group_tweet_data['start_time'].apply(lambda x: x.strftime('%H:%M'))\n",
    "\n",
    "group_tweet_data"
   ]
  },
  {
   "cell_type": "code",
   "execution_count": null,
   "id": "0c8540b2",
   "metadata": {},
   "outputs": [],
   "source": [
    "#read .csv data into pd \n",
    "tv_data = pd.read_csv('tv_rating_new.csv');\n",
    "tv_data"
   ]
  },
  {
   "cell_type": "code",
   "execution_count": null,
   "id": "beaac169",
   "metadata": {},
   "outputs": [],
   "source": [
    "merged_data = pd.merge(tv_data, group_tweet_data, how='left',\n",
    "                       left_on=['start_time','event_number','weekday'],\n",
    "                       right_on=['start_time','event_number','weekday'])\n",
    "\n",
    "# drop the null value\n",
    "merged_data = merged_data.dropna()\n",
    "merged_data"
   ]
  },
  {
   "cell_type": "code",
   "execution_count": null,
   "id": "7f2024e7",
   "metadata": {},
   "outputs": [],
   "source": [
    "merged_data['event_number'].value_counts()"
   ]
  },
  {
   "cell_type": "code",
   "execution_count": null,
   "id": "9d255506",
   "metadata": {},
   "outputs": [],
   "source": [
    "merged_data.dtypes"
   ]
  },
  {
   "cell_type": "markdown",
   "id": "32b05a5d",
   "metadata": {},
   "source": [
    "## Regression models 1 : tweet vs all"
   ]
  },
  {
   "cell_type": "code",
   "execution_count": null,
   "id": "3eeafd26",
   "metadata": {
    "scrolled": true
   },
   "outputs": [],
   "source": [
    "# Tv viewers vs other features\n",
    "\n",
    "X = merged_data[['number_of_player','number_of_team','sentiment_score','weekday']]\n",
    "\n",
    "y= merged_data['number_of_tweet']\n",
    "y[y==0]=0.0001\n",
    "y = np.log(y)\n",
    "\n",
    "X2 = sm.add_constant(X)\n",
    "est = sm.OLS(y, X2)\n",
    "est2 = est.fit()\n",
    "print(est2.summary())\n"
   ]
  },
  {
   "cell_type": "markdown",
   "id": "706c0c70",
   "metadata": {},
   "source": [
    "## Regression models 2 : tv viewers vs all"
   ]
  },
  {
   "cell_type": "code",
   "execution_count": null,
   "id": "bf9d9b92",
   "metadata": {},
   "outputs": [],
   "source": [
    "# Tv viewers vs other features\n",
    "\n",
    "X = merged_data[['number_of_tweet','number_of_player','number_of_team','sentiment_score','weekday']]\n",
    "\n",
    "y= merged_data['tvviewers']\n",
    "y[y==0]=0.0001\n",
    "y = np.log(y)\n",
    "\n",
    "X2 = sm.add_constant(X)\n",
    "est = sm.OLS(y, X2)\n",
    "est2 = est.fit()\n",
    "print(est2.summary())\n"
   ]
  },
  {
   "cell_type": "markdown",
   "id": "38451231",
   "metadata": {},
   "source": [
    "## Benchmark mode SFS :  tv viewers vs all"
   ]
  },
  {
   "cell_type": "code",
   "execution_count": null,
   "id": "583c01a4",
   "metadata": {},
   "outputs": [],
   "source": [
    "# Create a linear regression object\n",
    "lr = LinearRegression()\n",
    "\n",
    "#Perform forward selection or backward elimination\n",
    "sfs = SFS(lr, \n",
    "          k_features='best',  # 'best' for forward selection or 'parsimonious' for backward elimination\n",
    "          forward=True,  # Set True for forward selection or False for backward elimination\n",
    "          floating=False, \n",
    "          scoring='r2',\n",
    "          cv=5)  # cross-validation\n",
    "\n",
    "# Fit the object to the data\n",
    "sfs = sfs.fit(X, y)\n",
    "\n",
    "# Print the selected features\n",
    "print('Selected features:', sfs.k_feature_names_)\n",
    "\n",
    "# Train the model with the selected features\n",
    "lr.fit(X[list(sfs.k_feature_names_)], y)\n"
   ]
  },
  {
   "cell_type": "code",
   "execution_count": null,
   "id": "1ea52187",
   "metadata": {},
   "outputs": [],
   "source": [
    "X.columns"
   ]
  },
  {
   "cell_type": "code",
   "execution_count": null,
   "id": "4441c2fa",
   "metadata": {},
   "outputs": [],
   "source": [
    "# Use only the selected features from the stepwise selection\n",
    "X_selected = X[['number_of_tweet','number_of_player','number_of_team','sentiment_score']]\n",
    "\n",
    "# Fit the model\n",
    "lr.fit(X_selected, y)\n"
   ]
  },
  {
   "cell_type": "code",
   "execution_count": null,
   "id": "034dd8e0",
   "metadata": {},
   "outputs": [],
   "source": [
    "# Make predictions\n",
    "y_pred = lr.predict(X_selected)\n",
    "y_pred"
   ]
  },
  {
   "cell_type": "code",
   "execution_count": null,
   "id": "5c19edd0",
   "metadata": {},
   "outputs": [],
   "source": [
    "from sklearn.metrics import mean_squared_error\n",
    "\n",
    "# Calculate MSE\n",
    "mse = mean_squared_error(y, y_pred)\n",
    "print('MSE:', mse)\n"
   ]
  },
  {
   "cell_type": "code",
   "execution_count": null,
   "id": "85b65553",
   "metadata": {},
   "outputs": [],
   "source": [
    "# Print the coefficient of the model\n",
    "print('Coefficient:', lr.coef_)\n"
   ]
  },
  {
   "cell_type": "code",
   "execution_count": null,
   "id": "9a37bb57",
   "metadata": {},
   "outputs": [],
   "source": [
    "import statsmodels.api as sm\n",
    "\n",
    "def forward_stepwise(X, y, threshold_in):\n",
    "    initial_features = X.columns.tolist()\n",
    "    best_features = []\n",
    "    \n",
    "    while len(initial_features) > 0:\n",
    "        remaining_features = list(set(initial_features) - set(best_features))\n",
    "        new_pval = pd.Series(index=remaining_features)\n",
    "        \n",
    "        for new_column in remaining_features:\n",
    "            model = sm.OLS(y, sm.add_constant(pd.DataFrame(X[best_features + [new_column]]))).fit()\n",
    "            new_pval[new_column] = model.pvalues[new_column]\n",
    "            \n",
    "        min_p_value = new_pval.min()\n",
    "        if min_p_value < threshold_in:\n",
    "            best_features.append(new_pval.idxmin())\n",
    "        else:\n",
    "            break\n",
    "            \n",
    "    return best_features\n",
    "\n",
    "# Use the function to get the best features\n",
    "best_features = forward_stepwise(X, y, 0.05)\n",
    "\n",
    "print(best_features)\n"
   ]
  },
  {
   "cell_type": "markdown",
   "id": "855412be",
   "metadata": {},
   "source": [
    "## TV viewers vs Tweets number：random forest benchmark"
   ]
  },
  {
   "cell_type": "code",
   "execution_count": null,
   "id": "1647f0dc",
   "metadata": {},
   "outputs": [],
   "source": [
    "from sklearn.model_selection import train_test_split\n",
    "\n",
    "X= merged_data[['number_of_tweet','number_of_player','number_of_team']]\n",
    "y= merged_data['tvviewers']\n",
    "y = np.log(y)\n",
    "\n",
    "x_train, x_test, y_train, y_test = train_test_split(X, y, test_size=0.25, random_state=0)"
   ]
  },
  {
   "cell_type": "code",
   "execution_count": null,
   "id": "a7c67088",
   "metadata": {
    "scrolled": false
   },
   "outputs": [],
   "source": [
    "from sklearn.ensemble import RandomForestRegressor\n",
    "rnd_reg = RandomForestRegressor(n_estimators=500, max_leaf_nodes=16, n_jobs=-1)\n",
    "rnd_reg.fit(x_train, y_train)\n",
    "y_pred = rnd_reg.predict(x_test)"
   ]
  },
  {
   "cell_type": "code",
   "execution_count": null,
   "id": "8dbf952d",
   "metadata": {},
   "outputs": [],
   "source": [
    "y_pred"
   ]
  },
  {
   "cell_type": "code",
   "execution_count": null,
   "id": "8ee3967e",
   "metadata": {},
   "outputs": [],
   "source": [
    "y_test"
   ]
  },
  {
   "cell_type": "code",
   "execution_count": null,
   "id": "2c182a4d",
   "metadata": {},
   "outputs": [],
   "source": [
    "y_comparison=pd.DataFrame({'y_test': y_test,\n",
    "                           'y_pred': y_pred})\n",
    "pd.DataFrame(y_comparison).to_csv('y_comparison.csv',index=False)"
   ]
  },
  {
   "cell_type": "code",
   "execution_count": null,
   "id": "db15e1e6",
   "metadata": {},
   "outputs": [],
   "source": [
    "# Calculate the mean accuracy using the score method\n",
    "error_rate = 1-rnd_reg.score(x_test.values, y_test.values)\n",
    "print(error_rate)"
   ]
  },
  {
   "cell_type": "code",
   "execution_count": null,
   "id": "7eb551f5",
   "metadata": {},
   "outputs": [],
   "source": [
    "#calculate RMSE\n",
    "\n",
    "from sklearn.metrics import mean_squared_error\n",
    "\n",
    "MSE = mean_squared_error(y_test, y_pred, squared=False)\n",
    "print(MSE)"
   ]
  },
  {
   "cell_type": "code",
   "execution_count": null,
   "id": "6056c30d",
   "metadata": {},
   "outputs": [],
   "source": [
    "df_rnd_visual = pd.DataFrame(list(rnd_reg.feature_importances_), columns=['Feature Importance'], index=['number_of_tweet','number_of_player','number_of_team','Weekday'])\n",
    "df_rnd_visual"
   ]
  },
  {
   "cell_type": "code",
   "execution_count": null,
   "id": "41a42ec4",
   "metadata": {},
   "outputs": [],
   "source": [
    "from matplotlib import pyplot as plt\n",
    "from sklearn.ensemble import RandomForestRegressor\n",
    "\n",
    "# A function to visualise the feature importance or coef\n",
    "def f_importances(coef, names):\n",
    "    imp = coef\n",
    "    imp,names = zip(*sorted(zip(imp,names)))\n",
    "    plt.barh(range(len(names)), imp, align='center',color = (0.2, 0.4, 0.6, 0.6))\n",
    "    plt.yticks(range(len(names)), names)\n",
    "    plt.xlabel('Coefficient rating',fontsize=12)\n",
    "    plt.ylabel('Features',fontsize=12)\n",
    "    plt.title('Continuous random forest model for number of TV viewers vs Tweets',fontsize=14)\n",
    "    plt.show()\n",
    "\n",
    "features_names = ['number_of_tweet','number_of_player','number_of_team','Weekday']\n",
    "rnd_reg = RandomForestRegressor(n_estimators=500, max_leaf_nodes=16, n_jobs=-1)\n",
    "rnd_reg.fit(x_train, y_train)\n",
    "y_pred = rnd_reg.predict(x_test)\n",
    "\n",
    "rnd_importance = rnd_reg.feature_importances_\n",
    "f_importances(rnd_importance, features_names)\n"
   ]
  },
  {
   "cell_type": "markdown",
   "id": "667092f8",
   "metadata": {},
   "source": [
    "## TV viewers vs Tweets number：SVM Continuous DV"
   ]
  },
  {
   "cell_type": "code",
   "execution_count": null,
   "id": "607aa1df",
   "metadata": {},
   "outputs": [],
   "source": [
    "x = merged_data[['weekday','number_of_player','number_of_team','sentiment_score']]\n",
    "y= merged_data['number_of_tweet']\n",
    "y = np.log(y)"
   ]
  },
  {
   "cell_type": "code",
   "execution_count": null,
   "id": "4a748c91",
   "metadata": {},
   "outputs": [],
   "source": [
    "# spilt the training and testing set by 80% and 20% separately\n",
    "from sklearn.model_selection import train_test_split\n",
    "x_train, x_test, y_train, y_test = train_test_split(x, y, test_size=0.20, random_state=0)"
   ]
  },
  {
   "cell_type": "code",
   "execution_count": null,
   "id": "18d972d8",
   "metadata": {},
   "outputs": [],
   "source": [
    "# setting the features\n",
    "from sklearn.pipeline import Pipeline\n",
    "from sklearn.preprocessing import StandardScaler\n",
    "from sklearn.svm import SVR\n",
    "\n",
    "SVR = Pipeline([\n",
    "         (\"scaler\", StandardScaler(with_mean=False)), \n",
    "         ('svr', SVR(epsilon=0.2)), \n",
    "     ])\n",
    "SVR.fit(x_train, y_train)"
   ]
  },
  {
   "cell_type": "code",
   "execution_count": null,
   "id": "c1e48a59",
   "metadata": {},
   "outputs": [],
   "source": [
    "# Show the feature importance\n",
    "from sklearn import svm\n",
    "\n",
    "svr = svm.SVR(kernel='linear',max_iter=10000000)\n",
    "svr.fit(x_train,y_train)\n",
    "svr.coef_"
   ]
  },
  {
   "cell_type": "code",
   "execution_count": null,
   "id": "8f440bf4",
   "metadata": {},
   "outputs": [],
   "source": [
    "SVR_clf = pd.DataFrame(list(zip(list(svr.coef_[0]))), \n",
    "              columns =['SVR coefficient rating'], index=['weekday','number_of_player','number_of_team','sentiment_score']) \n",
    "\n",
    "SVR_clf"
   ]
  },
  {
   "cell_type": "code",
   "execution_count": null,
   "id": "75a77a4f",
   "metadata": {},
   "outputs": [],
   "source": [
    "y_pred_reg=svr.predict(x_test)\n",
    "R2=svr.score(x_test,y_test)"
   ]
  },
  {
   "cell_type": "code",
   "execution_count": null,
   "id": "c7a923ec",
   "metadata": {},
   "outputs": [],
   "source": [
    "from matplotlib import pyplot as plt\n",
    "from sklearn.svm import SVR\n",
    "\n",
    "# A function to visualise the feature importance or coef\n",
    "def f_importances(coef, names):\n",
    "    imp = coef\n",
    "    imp,names = zip(*sorted(zip(imp,names)))\n",
    "    plt.barh(range(len(names)), imp, align='center',color = (0.2, 0.4, 0.6, 0.6))\n",
    "    plt.yticks(range(len(names)), names)\n",
    "    plt.xlabel('Coefficient rating',fontsize=12)\n",
    "    plt.ylabel('Feature names',fontsize=12)\n",
    "    plt.title('SVM Continuous DV for number of tweet vs others',fontsize=14)\n",
    "    plt.show()\n",
    "\n",
    "features_names = ['weekday','number_of_player','number_of_team','sentiment_score']\n",
    "svr_model = SVR(kernel='linear',max_iter=10000000)\n",
    "svr_model.fit(x_train,y_train)\n",
    "svr_model.coef_\n",
    "f_importances(svr_model.coef_[0], features_names)"
   ]
  },
  {
   "cell_type": "code",
   "execution_count": null,
   "id": "c76da375",
   "metadata": {},
   "outputs": [],
   "source": [
    "# error rate\n",
    "error_rate =1- svr_model.score(x_test,y_test)\n",
    "print(error_rate)"
   ]
  },
  {
   "cell_type": "code",
   "execution_count": null,
   "id": "f5da0d57",
   "metadata": {},
   "outputs": [],
   "source": [
    "from sklearn.metrics import mean_squared_error, mean_absolute_error, r2_score\n",
    "\n",
    "columns=['MSE','MAE','RMSE','R-squared'] \n",
    "rows=['SVR for tweet vs others']\n",
    "\n",
    "results=pd.DataFrame(0.0, columns=columns, index=rows) \n",
    "\n",
    "# step3: get prediction\n",
    "svr = SVR() \n",
    "\n",
    "# create an instance of SVR class svr.fit(X=x_train,y=y_train) \n",
    "\n",
    "results.iloc[0,0]= mean_squared_error(y_test,y_pred_reg)\n",
    "results.iloc[0,1]= mean_absolute_error(y_test,y_pred_reg)\n",
    "results.iloc[0,2]= np.sqrt(results.iloc[0,0])\n",
    "results.iloc[0,3]= r2_score(y_test,y_pred_reg)\n",
    "\n",
    "results"
   ]
  },
  {
   "cell_type": "code",
   "execution_count": null,
   "id": "b8a0753a",
   "metadata": {},
   "outputs": [],
   "source": [
    "# Scatter plot\n",
    "plt.scatter(y_test, y_pred_reg, color=(0.2, 0.4, 0.6, 0.6))\n",
    "plt.xlabel('Actual Values')\n",
    "plt.ylabel('Predicted Values')\n",
    "plt.title('Actual vs. Predicted Values for tweet vs others')\n",
    "\n",
    "# Add trend line\n",
    "coefficients = np.polyfit(y_test, y_pred_reg, 1)  # Fit a first-degree polynomial (linear regression)\n",
    "trendline = np.poly1d(coefficients)\n",
    "plt.plot(y_test, trendline(y_test), color='red')\n",
    "\n",
    "plt.show()\n"
   ]
  },
  {
   "cell_type": "markdown",
   "id": "46c6aef0",
   "metadata": {},
   "source": [
    "## TV viewers vs Start time"
   ]
  },
  {
   "cell_type": "code",
   "execution_count": null,
   "id": "5c1e5194",
   "metadata": {},
   "outputs": [],
   "source": [
    "import pandas as pd\n",
    "import matplotlib.pyplot as plt\n",
    "\n",
    "# Specify the events to display\n",
    "events = [1, 2, 7, 10]\n",
    "\n",
    "# Filter the data for the specified events\n",
    "filtered_data = merged_data[merged_data['event_number'].isin(events)]\n",
    "\n",
    "# Specify the variables to display\n",
    "variables = ['tvviewers', 'number_of_tweet', 'number_of_player', 'number_of_team']\n",
    "\n",
    "# Loop through each variable and plot a bar chart\n",
    "for variable in variables:\n",
    "    # Create a subplot layout\n",
    "    fig, ax = plt.subplots(figsize=(10, 6))\n",
    "\n",
    "    # Group by event_number and calculate the sum of the variable for each event\n",
    "    event_data = filtered_data.groupby('event_number')[variable].sum()\n",
    "\n",
    "    # Plot the bar chart with no whitespace between bars\n",
    "    bars = ax.bar(range(len(events)), event_data.values, width=0.8, color=(0.2, 0.4, 0.6, 0.6))\n",
    "\n",
    "    # Set the axis labels and title\n",
    "    ax.set_xlabel('Event Number')\n",
    "    ax.set_ylabel('Quantity')\n",
    "    ax.set_title(f'{variable.capitalize()} by Event Number')\n",
    "\n",
    "    # Set the x-axis ticks and tick labels to display only the specified events\n",
    "    ax.set_xticks(range(len(events)))\n",
    "    ax.set_xticklabels(events)\n",
    "\n",
    "    # Add text annotations on top of each bar\n",
    "    for bar in bars:\n",
    "        height = bar.get_height()\n",
    "        ax.text(bar.get_x() + bar.get_width() / 2, height, str(int(height)), ha='center', va='bottom')\n",
    "\n",
    "    plt.show()\n"
   ]
  },
  {
   "cell_type": "code",
   "execution_count": null,
   "id": "843d4d7d",
   "metadata": {},
   "outputs": [],
   "source": []
  }
 ],
 "metadata": {
  "kernelspec": {
   "display_name": "Python 3 (ipykernel)",
   "language": "python",
   "name": "python3"
  },
  "language_info": {
   "codemirror_mode": {
    "name": "ipython",
    "version": 3
   },
   "file_extension": ".py",
   "mimetype": "text/x-python",
   "name": "python",
   "nbconvert_exporter": "python",
   "pygments_lexer": "ipython3",
   "version": "3.9.13"
  }
 },
 "nbformat": 4,
 "nbformat_minor": 5
}
